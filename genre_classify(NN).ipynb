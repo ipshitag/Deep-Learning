{
  "nbformat": 4,
  "nbformat_minor": 0,
  "metadata": {
    "colab": {
      "name": "genre_classify(NN).ipynb",
      "provenance": [],
      "collapsed_sections": []
    },
    "kernelspec": {
      "name": "python3",
      "display_name": "Python 3"
    },
    "language_info": {
      "name": "python"
    }
  },
  "cells": [
    {
      "cell_type": "markdown",
      "metadata": {
        "id": "exGgxknmIQtw"
      },
      "source": [
        "Import Libraries"
      ]
    },
    {
      "cell_type": "code",
      "metadata": {
        "id": "k3NzOQUdAREy"
      },
      "source": [
        "import json\n",
        "import numpy as np\n",
        "from sklearn.model_selection import train_test_split\n",
        "import tensorflow.keras as keras\n",
        "import matplotlib.pyplot as plt"
      ],
      "execution_count": 14,
      "outputs": []
    },
    {
      "cell_type": "markdown",
      "metadata": {
        "id": "P854sp2CIYqa"
      },
      "source": [
        "Plan"
      ]
    },
    {
      "cell_type": "code",
      "metadata": {
        "id": "FpLgRUxp_bhu"
      },
      "source": [
        "#load data\n",
        "#split the data into train and test set\n",
        "#build the network architecture\n",
        "#compile network\n",
        "#train network\n",
        "#plot history of training"
      ],
      "execution_count": null,
      "outputs": []
    },
    {
      "cell_type": "markdown",
      "metadata": {
        "id": "JkgO52TdJobo"
      },
      "source": [
        "Main Coding"
      ]
    },
    {
      "cell_type": "code",
      "metadata": {
        "id": "6GFDO7CwAxsc"
      },
      "source": [
        "DATASET_PATH = '/content/drive/MyDrive/audio_data.json'"
      ],
      "execution_count": 15,
      "outputs": []
    },
    {
      "cell_type": "code",
      "metadata": {
        "id": "Xifr3zpDAAnQ"
      },
      "source": [
        "#load data\n",
        "def load_data(dataset_path):\n",
        "  with open(dataset_path, \"r\") as fp:\n",
        "    data = json.load(fp)\n",
        "\n",
        "  \n",
        "  # convert lists into numpy arrays\n",
        "  inputs = np.array(data[\"mfcc\"])\n",
        "  targets = np.array(data[\"labels\"])\n",
        "\n",
        "  return inputs, targets\n"
      ],
      "execution_count": 16,
      "outputs": []
    },
    {
      "cell_type": "code",
      "metadata": {
        "id": "qUfcZv5X1o8c"
      },
      "source": [
        "def plot_history(history):\n",
        "  fig,axs = plt.subplots(2)\n",
        "  fig.tight_layout(h_pad=2)\n",
        "\n",
        "  #create accuracy subplot\n",
        "  axs[0].plot(history.history[\"accuracy\"], label=\"train accuracy\")\n",
        "  axs[0].plot(history.history[\"val_accuracy\"], label=\"test accuracy\")\n",
        "  axs[0].set_ylabel(\"Accuracy\")\n",
        "  axs[0].legend(loc=\"lower right\")\n",
        "  axs[0].set_title(\"Accuracy eval\")\n",
        "\n",
        "\n",
        "  #create error subplot\n",
        "  axs[1].plot(history.history[\"loss\"], label=\"train accuracy\")\n",
        "  axs[1].plot(history.history[\"val_accuracy\"], label=\"test accuracy\")\n",
        "  axs[1].set_ylabel(\"Accuracy\")\n",
        "  axs[1].legend(loc=\"lower right\")\n",
        "  axs[1].set_title(\"Accuracy eval\")\n",
        "\n",
        "  plt.show()"
      ],
      "execution_count": 27,
      "outputs": []
    },
    {
      "cell_type": "code",
      "metadata": {
        "id": "_BuWY_vEBJ-7",
        "colab": {
          "base_uri": "https://localhost:8080/",
          "height": 1000
        },
        "outputId": "7a87f6da-0748-4b8b-a9ff-ee74ceb72c14"
      },
      "source": [
        "#get the data\n",
        "inputs,targets = load_data(DATASET_PATH)\n",
        "\n",
        "#split the data\n",
        "inputs_train, inputs_test, targets_train, targets_test = train_test_split(inputs,\n",
        "                                                                           targets,\n",
        "                                                                           test_size = 0.3)\n",
        "\n",
        "#build the network architecture\n",
        "model = keras.Sequential([\n",
        "   #input layer\n",
        "   keras.layers.Flatten(input_shape=(inputs.shape[1],inputs.shape[2])),  \n",
        "   \n",
        "   #1st hidden layer\n",
        "   keras.layers.Dense(512, activation=\"relu\",kernel_regularizer=keras.regularizers.l2(0.001)),\n",
        "   keras.layers.Dropout(0.3),\n",
        "   \n",
        "   #2nd hidden layer\n",
        "   keras.layers.Dense(256, activation=\"relu\",kernel_regularizer=keras.regularizers.l2(0.001)),\n",
        "   keras.layers.Dropout(0.3),\n",
        "\n",
        "   #3rd hidden layer\n",
        "   keras.layers.Dense(63, activation=\"relu\",kernel_regularizer=keras.regularizers.l2(0.001)),\n",
        "   keras.layers.Dropout(0.3),\n",
        "   \n",
        "   #output layer\n",
        "   keras.layers.Dense(10, activation=\"softmax\")\n",
        "\n",
        "])\n",
        "\n",
        "\n",
        "#compile network\n",
        "optimizer = keras.optimizers.Adam(learning_rate=0.0001)\n",
        "model.compile(optimizer=optimizer,\n",
        "              loss = \"sparse_categorical_crossentropy\",\n",
        "              metrics=[\"accuracy\"])\n",
        "\n",
        "#train network\n",
        "history = model.fit(inputs_train,targets_train, \n",
        "          validation_data=(inputs_test,targets_test),\n",
        "          epochs=50,\n",
        "          batch_size=32)\n",
        "\n",
        "#plot accuracy and error over the epochs\n",
        "plot_history(history)"
      ],
      "execution_count": 29,
      "outputs": [
        {
          "output_type": "stream",
          "text": [
            "Epoch 1/50\n",
            "219/219 [==============================] - 8s 34ms/step - loss: 41.0421 - accuracy: 0.1528 - val_loss: 3.4499 - val_accuracy: 0.1641\n",
            "Epoch 2/50\n",
            "219/219 [==============================] - 6s 25ms/step - loss: 7.4757 - accuracy: 0.1614 - val_loss: 3.4632 - val_accuracy: 0.1380\n",
            "Epoch 3/50\n",
            "219/219 [==============================] - 6s 29ms/step - loss: 4.6876 - accuracy: 0.1434 - val_loss: 3.4721 - val_accuracy: 0.1370\n",
            "Epoch 4/50\n",
            "219/219 [==============================] - 7s 30ms/step - loss: 4.0492 - accuracy: 0.1265 - val_loss: 3.4563 - val_accuracy: 0.1424\n",
            "Epoch 5/50\n",
            "219/219 [==============================] - 6s 26ms/step - loss: 3.7729 - accuracy: 0.1345 - val_loss: 3.4205 - val_accuracy: 0.1584\n",
            "Epoch 6/50\n",
            "219/219 [==============================] - 6s 27ms/step - loss: 3.6780 - accuracy: 0.1375 - val_loss: 3.4148 - val_accuracy: 0.1587\n",
            "Epoch 7/50\n",
            "219/219 [==============================] - 6s 27ms/step - loss: 3.5641 - accuracy: 0.1494 - val_loss: 3.3691 - val_accuracy: 0.1694\n",
            "Epoch 8/50\n",
            "219/219 [==============================] - 6s 29ms/step - loss: 3.5173 - accuracy: 0.1759 - val_loss: 3.3573 - val_accuracy: 0.1731\n",
            "Epoch 9/50\n",
            "219/219 [==============================] - 6s 29ms/step - loss: 3.4755 - accuracy: 0.1692 - val_loss: 3.3387 - val_accuracy: 0.1781\n",
            "Epoch 10/50\n",
            "219/219 [==============================] - 7s 30ms/step - loss: 3.4243 - accuracy: 0.1734 - val_loss: 3.3156 - val_accuracy: 0.1854\n",
            "Epoch 11/50\n",
            "219/219 [==============================] - 6s 29ms/step - loss: 3.3787 - accuracy: 0.1853 - val_loss: 3.3288 - val_accuracy: 0.1771\n",
            "Epoch 12/50\n",
            "219/219 [==============================] - 6s 29ms/step - loss: 3.3864 - accuracy: 0.1712 - val_loss: 3.2972 - val_accuracy: 0.1837\n",
            "Epoch 13/50\n",
            "219/219 [==============================] - 7s 31ms/step - loss: 3.3843 - accuracy: 0.1745 - val_loss: 3.2568 - val_accuracy: 0.1984\n",
            "Epoch 14/50\n",
            "219/219 [==============================] - 6s 29ms/step - loss: 3.3454 - accuracy: 0.1966 - val_loss: 3.2681 - val_accuracy: 0.1814\n",
            "Epoch 15/50\n",
            "219/219 [==============================] - 7s 32ms/step - loss: 3.3283 - accuracy: 0.1945 - val_loss: 3.2206 - val_accuracy: 0.2004\n",
            "Epoch 16/50\n",
            "219/219 [==============================] - 6s 28ms/step - loss: 3.2977 - accuracy: 0.2070 - val_loss: 3.2410 - val_accuracy: 0.1841\n",
            "Epoch 17/50\n",
            "219/219 [==============================] - 7s 33ms/step - loss: 3.2514 - accuracy: 0.2063 - val_loss: 3.2113 - val_accuracy: 0.1954\n",
            "Epoch 18/50\n",
            "219/219 [==============================] - 7s 32ms/step - loss: 3.2465 - accuracy: 0.2067 - val_loss: 3.1765 - val_accuracy: 0.2027\n",
            "Epoch 19/50\n",
            "219/219 [==============================] - 7s 31ms/step - loss: 3.2279 - accuracy: 0.2138 - val_loss: 3.1830 - val_accuracy: 0.1957\n",
            "Epoch 20/50\n",
            "219/219 [==============================] - 7s 30ms/step - loss: 3.2125 - accuracy: 0.2149 - val_loss: 3.1565 - val_accuracy: 0.2061\n",
            "Epoch 21/50\n",
            "219/219 [==============================] - 7s 30ms/step - loss: 3.1727 - accuracy: 0.2190 - val_loss: 3.1110 - val_accuracy: 0.2204\n",
            "Epoch 22/50\n",
            "219/219 [==============================] - 6s 27ms/step - loss: 3.1644 - accuracy: 0.2342 - val_loss: 3.0901 - val_accuracy: 0.2277\n",
            "Epoch 23/50\n",
            "219/219 [==============================] - 7s 30ms/step - loss: 3.1346 - accuracy: 0.2269 - val_loss: 3.1135 - val_accuracy: 0.2077\n",
            "Epoch 24/50\n",
            "219/219 [==============================] - 7s 33ms/step - loss: 3.1094 - accuracy: 0.2293 - val_loss: 3.0649 - val_accuracy: 0.2211\n",
            "Epoch 25/50\n",
            "219/219 [==============================] - 7s 31ms/step - loss: 3.0975 - accuracy: 0.2346 - val_loss: 3.0621 - val_accuracy: 0.2201\n",
            "Epoch 26/50\n",
            "219/219 [==============================] - 6s 29ms/step - loss: 3.0652 - accuracy: 0.2263 - val_loss: 3.0530 - val_accuracy: 0.2127\n",
            "Epoch 27/50\n",
            "219/219 [==============================] - 8s 35ms/step - loss: 3.0258 - accuracy: 0.2337 - val_loss: 2.9955 - val_accuracy: 0.2294\n",
            "Epoch 28/50\n",
            "219/219 [==============================] - 6s 28ms/step - loss: 3.0066 - accuracy: 0.2497 - val_loss: 2.9830 - val_accuracy: 0.2274\n",
            "Epoch 29/50\n",
            "219/219 [==============================] - 7s 32ms/step - loss: 2.9759 - accuracy: 0.2428 - val_loss: 2.9389 - val_accuracy: 0.2364\n",
            "Epoch 30/50\n",
            "219/219 [==============================] - 6s 27ms/step - loss: 2.9650 - accuracy: 0.2403 - val_loss: 2.9042 - val_accuracy: 0.2487\n",
            "Epoch 31/50\n",
            "219/219 [==============================] - 3s 16ms/step - loss: 2.9031 - accuracy: 0.2522 - val_loss: 2.8793 - val_accuracy: 0.2508\n",
            "Epoch 32/50\n",
            "219/219 [==============================] - 4s 19ms/step - loss: 2.8781 - accuracy: 0.2621 - val_loss: 2.8369 - val_accuracy: 0.2521\n",
            "Epoch 33/50\n",
            "219/219 [==============================] - 4s 19ms/step - loss: 2.8425 - accuracy: 0.2651 - val_loss: 2.8199 - val_accuracy: 0.2578\n",
            "Epoch 34/50\n",
            "219/219 [==============================] - 4s 18ms/step - loss: 2.8100 - accuracy: 0.2629 - val_loss: 2.7708 - val_accuracy: 0.2544\n",
            "Epoch 35/50\n",
            "219/219 [==============================] - 4s 20ms/step - loss: 2.7938 - accuracy: 0.2565 - val_loss: 2.7650 - val_accuracy: 0.2584\n",
            "Epoch 36/50\n",
            "219/219 [==============================] - 4s 20ms/step - loss: 2.7455 - accuracy: 0.2714 - val_loss: 2.7172 - val_accuracy: 0.3221\n",
            "Epoch 37/50\n",
            "219/219 [==============================] - 4s 20ms/step - loss: 2.7178 - accuracy: 0.3062 - val_loss: 2.7066 - val_accuracy: 0.3201\n",
            "Epoch 38/50\n",
            "219/219 [==============================] - 4s 17ms/step - loss: 2.6664 - accuracy: 0.3174 - val_loss: 2.6501 - val_accuracy: 0.3274\n",
            "Epoch 39/50\n",
            "219/219 [==============================] - 4s 17ms/step - loss: 2.6438 - accuracy: 0.3253 - val_loss: 2.5982 - val_accuracy: 0.3374\n",
            "Epoch 40/50\n",
            "219/219 [==============================] - 4s 17ms/step - loss: 2.6030 - accuracy: 0.3347 - val_loss: 2.5963 - val_accuracy: 0.3258\n",
            "Epoch 41/50\n",
            "219/219 [==============================] - 4s 19ms/step - loss: 2.5969 - accuracy: 0.3285 - val_loss: 2.5684 - val_accuracy: 0.3434\n",
            "Epoch 42/50\n",
            "219/219 [==============================] - 6s 26ms/step - loss: 2.5411 - accuracy: 0.3445 - val_loss: 2.5424 - val_accuracy: 0.3358\n",
            "Epoch 43/50\n",
            "219/219 [==============================] - 6s 26ms/step - loss: 2.5085 - accuracy: 0.3465 - val_loss: 2.5061 - val_accuracy: 0.3484\n",
            "Epoch 44/50\n",
            "219/219 [==============================] - 5s 24ms/step - loss: 2.4958 - accuracy: 0.3282 - val_loss: 2.4613 - val_accuracy: 0.3735\n",
            "Epoch 45/50\n",
            "219/219 [==============================] - 6s 28ms/step - loss: 2.4692 - accuracy: 0.3481 - val_loss: 2.4438 - val_accuracy: 0.3581\n",
            "Epoch 46/50\n",
            "219/219 [==============================] - 6s 28ms/step - loss: 2.4073 - accuracy: 0.3516 - val_loss: 2.4209 - val_accuracy: 0.3728\n",
            "Epoch 47/50\n",
            "219/219 [==============================] - 6s 27ms/step - loss: 2.3896 - accuracy: 0.3687 - val_loss: 2.4232 - val_accuracy: 0.3851\n",
            "Epoch 48/50\n",
            "219/219 [==============================] - 7s 30ms/step - loss: 2.3663 - accuracy: 0.3544 - val_loss: 2.3713 - val_accuracy: 0.3705\n",
            "Epoch 49/50\n",
            "219/219 [==============================] - 6s 29ms/step - loss: 2.3321 - accuracy: 0.3625 - val_loss: 2.3508 - val_accuracy: 0.3815\n",
            "Epoch 50/50\n",
            "219/219 [==============================] - 5s 25ms/step - loss: 2.3119 - accuracy: 0.3722 - val_loss: 2.3414 - val_accuracy: 0.3898\n"
          ],
          "name": "stdout"
        },
        {
          "output_type": "display_data",
          "data": {
            "image/png": "[encoded data removed]",
            "text/plain": [
              "<Figure size 432x288 with 2 Axes>"
            ]
          },
          "metadata": {
            "tags": [],
            "needs_background": "light"
          }
        }
      ]
    },
    {
      "cell_type": "code",
      "metadata": {
        "colab": {
          "base_uri": "https://localhost:8080/"
        },
        "id": "mDIAIHcGKHft",
        "outputId": "42c41f21-6712-4287-8e83-5875cf82417f"
      },
      "source": [
        "model.evaluate(inputs_test,targets_test, verbose=1)"
      ],
      "execution_count": 30,
      "outputs": [
        {
          "output_type": "stream",
          "text": [
            "94/94 [==============================] - 1s 11ms/step - loss: 2.3414 - accuracy: 0.3898\n"
          ],
          "name": "stdout"
        },
        {
          "output_type": "execute_result",
          "data": {
            "text/plain": [
              "[2.3414273262023926, 0.38979658484458923]"
            ]
          },
          "metadata": {
            "tags": []
          },
          "execution_count": 30
        }
      ]
    }
  ]
}