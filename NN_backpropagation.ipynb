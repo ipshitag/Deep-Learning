{
  "nbformat": 4,
  "nbformat_minor": 0,
  "metadata": {
    "colab": {
      "name": "Untitled2.ipynb",
      "provenance": []
    },
    "kernelspec": {
      "name": "python3",
      "display_name": "Python 3"
    },
    "language_info": {
      "name": "python"
    }
  },
  "cells": [
    {
      "cell_type": "code",
      "metadata": {
        "id": "ZYbB61Jt1kYt"
      },
      "source": [
        "import numpy as np\n",
        "# scipy.special for the sigmoid function expit() \n",
        "import scipy.special "
      ],
      "execution_count": 1,
      "outputs": []
    },
    {
      "cell_type": "code",
      "metadata": {
        "id": "ILKGD-6t1iua"
      },
      "source": [
        "#neural network class definition\n",
        "class neuralNetwork():\n",
        "\n",
        "  #initialize the neural network\n",
        "  def __init__(self, inputnodes, hiddennodes, outputnodes, learningrate):\n",
        "\n",
        "    #set number of nodes into input, hidden and output layers\n",
        "    self.inodes = inputnodes\n",
        "    self.hnodes = hiddennodes\n",
        "    self.onodes = outputnodes\n",
        "\n",
        "    # link weight matrices, wih and who \n",
        "    # weights inside the arrays are w_i_j, where link is from node i to node j in the next layer \n",
        "    # w11 w21 \n",
        "    # w12 w22 etc \n",
        "    self.wih = np.random.normal(0.0, pow(self.hnodes, -0.5), (self.hnodes, self.inodes)) \n",
        "    self.who = np.random.normal(0.0, pow(self.onodes, -0.5), (self.onodes, self.hnodes)) \n",
        "\n",
        "    #learning rate\n",
        "    self.lr = learningrate \n",
        "\n",
        "    # activation function is the sigmoid function \n",
        "    self.activation_function = lambda x: scipy.special.expit(x) \n",
        "\n",
        "    pass\n",
        "\n",
        "  #train the neural network\n",
        "  def train(self, inputs_list, targets_list):\n",
        "    # convert inputs list to 2d array \n",
        "    inputs = numpy.array(inputs_list, ndmin=2).T \n",
        "    targets = numpy.array(targets_list, ndmin=2).T \n",
        " \n",
        "    # calculate signals into hidden layer \n",
        "    hidden_inputs = numpy.dot(self.wih, inputs) \n",
        "    \n",
        "    # calculate the signals emerging from hidden layer \n",
        "    hidden_outputs = self.activation_function(hidden_inputs) \n",
        " \n",
        "    # calculate signals into final output layer \n",
        "    final_inputs = numpy.dot(self.who, hidden_outputs) \n",
        " \n",
        "    # calculate the signals emerging from final output layer \n",
        "    final_outputs = self.activation_function(final_inputs) \n",
        "\n",
        "    # output layer error is the (target - actual) \n",
        "    output_errors = targets - final_outputs \n",
        " \n",
        "    # hidden layer error is the output_errors, split by weights, recombined at hidden nodes \n",
        "    hidden_errors = numpy.dot(self.who.T, output_errors) \n",
        " \n",
        "    # update the weights for the links between the hidden and output layers \n",
        "    self.who += self.lr * numpy.dot((output_errors * final_outputs * (1.0 - final_outputs)), numpy.transpose(hidden_outputs)) \n",
        " \n",
        "    # update the weights for the links between the input and hidden layers \n",
        "    self.wih += self.lr * numpy.dot((hidden_errors * hidden_outputs * (1.0 - hidden_outputs)), numpy.transpose(inputs)) \n",
        "\n",
        "    pass\n",
        "\n",
        "\n",
        "  #query the neural network\n",
        "  def query():\n",
        "    # convert inputs list to 2d array \n",
        "    inputs = numpy.array(inputs_list, ndmin=2).T \n",
        " \n",
        "    # calculate signals into hidden layer \n",
        "    hidden_inputs = numpy.dot(self.wih, inputs) \n",
        "    \n",
        "    # calculate the signals emerging from hidden layer \n",
        "    hidden_outputs = self.activation_function(hidden_inputs) \n",
        " \n",
        "    # calculate signals into final output layer \n",
        "    final_inputs = numpy.dot(self.who, hidden_outputs) \n",
        "    \n",
        "    # calculate the signals emerging from final output layer \n",
        "    final_outputs = self.activation_function(final_inputs) \n",
        " \n",
        "    return final_outputs "
      ],
      "execution_count": 2,
      "outputs": []
    }
  ]
}