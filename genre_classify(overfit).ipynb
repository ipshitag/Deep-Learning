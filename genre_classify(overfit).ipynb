{
  "nbformat": 4,
  "nbformat_minor": 0,
  "metadata": {
    "colab": {
      "name": "genre_classify(overfit).ipynb",
      "provenance": [],
      "collapsed_sections": []
    },
    "kernelspec": {
      "name": "python3",
      "display_name": "Python 3"
    },
    "language_info": {
      "name": "python"
    }
  },
  "cells": [
    {
      "cell_type": "markdown",
      "metadata": {
        "id": "exGgxknmIQtw"
      },
      "source": [
        "Import Libraries"
      ]
    },
    {
      "cell_type": "code",
      "metadata": {
        "id": "k3NzOQUdAREy"
      },
      "source": [
        "import json\n",
        "import numpy as np\n",
        "from sklearn.model_selection import train_test_split\n",
        "import tensorflow.keras as keras"
      ],
      "execution_count": 12,
      "outputs": []
    },
    {
      "cell_type": "markdown",
      "metadata": {
        "id": "P854sp2CIYqa"
      },
      "source": [
        "Plan"
      ]
    },
    {
      "cell_type": "code",
      "metadata": {
        "id": "FpLgRUxp_bhu"
      },
      "source": [
        "#load data\n",
        "#split the data into train and test set\n",
        "#build the network architecture\n",
        "#compile network\n",
        "#train network"
      ],
      "execution_count": null,
      "outputs": []
    },
    {
      "cell_type": "markdown",
      "metadata": {
        "id": "JkgO52TdJobo"
      },
      "source": [
        "Main Coding"
      ]
    },
    {
      "cell_type": "code",
      "metadata": {
        "id": "6GFDO7CwAxsc"
      },
      "source": [
        "DATASET_PATH = '/content/data_10.json'"
      ],
      "execution_count": 5,
      "outputs": []
    },
    {
      "cell_type": "code",
      "metadata": {
        "id": "Xifr3zpDAAnQ"
      },
      "source": [
        "#load data\n",
        "def load_data(dataset_path):\n",
        "  with open(dataset_path, \"r\") as fp:\n",
        "    data = json.load(fp)\n",
        "\n",
        "  \n",
        "  # convert lists into numpy arrays\n",
        "  inputs = np.array(data[\"mfcc\"])\n",
        "  targets = np.array(data[\"labels\"])\n",
        "\n",
        "  return inputs, targets\n"
      ],
      "execution_count": 4,
      "outputs": []
    },
    {
      "cell_type": "code",
      "metadata": {
        "id": "MOi8r8yjAtoC"
      },
      "source": [
        "inputs,targets = load_data(DATASET_PATH)"
      ],
      "execution_count": 6,
      "outputs": []
    },
    {
      "cell_type": "code",
      "metadata": {
        "id": "_BuWY_vEBJ-7"
      },
      "source": [
        "inputs_train, inputs_test, targets_train, targets_test = train_test_split(inputs,\n",
        "                                                                           targets,\n",
        "                                                                           test_size = 0.3)"
      ],
      "execution_count": 17,
      "outputs": []
    },
    {
      "cell_type": "code",
      "metadata": {
        "id": "gCe31ZWUBqoH"
      },
      "source": [
        "#build the network architecture\n",
        "model = keras.Sequential([\n",
        "   #input layer\n",
        "   keras.layers.Flatten(input_shape=(inputs.shape[1],inputs.shape[2])),  \n",
        "   \n",
        "   #1st hidden layer\n",
        "   keras.layers.Dense(512, activation=\"relu\"),\n",
        "   \n",
        "   #2nd hidden layer\n",
        "   keras.layers.Dense(256, activation=\"relu\"),\n",
        "   \n",
        "   #3rd hidden layer\n",
        "   keras.layers.Dense(63, activation=\"relu\"),\n",
        "\n",
        "   #output layer\n",
        "   keras.layers.Dense(10, activation=\"softmax\")\n",
        "\n",
        "])"
      ],
      "execution_count": 14,
      "outputs": []
    },
    {
      "cell_type": "code",
      "metadata": {
        "colab": {
          "base_uri": "https://localhost:8080/"
        },
        "id": "U0OwE0anFKMm",
        "outputId": "13e20bf1-6565-4330-8108-ee541e68113f"
      },
      "source": [
        "#compile network\n",
        "optimizer = keras.optimizers.Adam(learning_rate=0.0001)\n",
        "model.compile(optimizer=optimizer,\n",
        "              loss = \"sparse_categorical_crossentropy\",\n",
        "              metrics=[\"accuracy\"])\n",
        "\n",
        "model.summary()"
      ],
      "execution_count": 16,
      "outputs": [
        {
          "output_type": "stream",
          "text": [
            "Model: \"sequential\"\n",
            "_________________________________________________________________\n",
            "Layer (type)                 Output Shape              Param #   \n",
            "=================================================================\n",
            "flatten (Flatten)            (None, 1690)              0         \n",
            "_________________________________________________________________\n",
            "dense (Dense)                (None, 512)               865792    \n",
            "_________________________________________________________________\n",
            "dense_1 (Dense)              (None, 256)               131328    \n",
            "_________________________________________________________________\n",
            "dense_2 (Dense)              (None, 63)                16191     \n",
            "_________________________________________________________________\n",
            "dense_3 (Dense)              (None, 10)                640       \n",
            "=================================================================\n",
            "Total params: 1,013,951\n",
            "Trainable params: 1,013,951\n",
            "Non-trainable params: 0\n",
            "_________________________________________________________________\n"
          ],
          "name": "stdout"
        }
      ]
    },
    {
      "cell_type": "code",
      "metadata": {
        "colab": {
          "base_uri": "https://localhost:8080/"
        },
        "id": "Y4j3sN5yGBJd",
        "outputId": "aeb493d1-4173-461c-b385-247c9dd261ba"
      },
      "source": [
        "#train network\n",
        "model.fit(inputs_train,targets_train, \n",
        "          validation_data=(inputs_test,targets_test),\n",
        "          epochs=50,\n",
        "          batch_size=32)"
      ],
      "execution_count": 18,
      "outputs": [
        {
          "output_type": "stream",
          "text": [
            "Epoch 1/50\n",
            "219/219 [==============================] - 3s 12ms/step - loss: 14.0926 - accuracy: 0.2157 - val_loss: 2.1441 - val_accuracy: 0.2594\n",
            "Epoch 2/50\n",
            "219/219 [==============================] - 2s 11ms/step - loss: 2.0076 - accuracy: 0.3062 - val_loss: 1.9967 - val_accuracy: 0.3114\n",
            "Epoch 3/50\n",
            "219/219 [==============================] - 2s 11ms/step - loss: 1.8051 - accuracy: 0.3760 - val_loss: 1.9384 - val_accuracy: 0.3588\n",
            "Epoch 4/50\n",
            "219/219 [==============================] - 2s 11ms/step - loss: 1.6609 - accuracy: 0.4221 - val_loss: 1.9262 - val_accuracy: 0.3801\n",
            "Epoch 5/50\n",
            "219/219 [==============================] - 2s 11ms/step - loss: 1.6020 - accuracy: 0.4367 - val_loss: 1.9002 - val_accuracy: 0.3661\n",
            "Epoch 6/50\n",
            "219/219 [==============================] - 2s 11ms/step - loss: 1.5483 - accuracy: 0.4635 - val_loss: 1.8215 - val_accuracy: 0.4035\n",
            "Epoch 7/50\n",
            "219/219 [==============================] - 2s 11ms/step - loss: 1.4674 - accuracy: 0.4965 - val_loss: 1.8667 - val_accuracy: 0.4168\n",
            "Epoch 8/50\n",
            "219/219 [==============================] - 2s 11ms/step - loss: 1.3868 - accuracy: 0.5224 - val_loss: 1.8387 - val_accuracy: 0.4231\n",
            "Epoch 9/50\n",
            "219/219 [==============================] - 2s 11ms/step - loss: 1.3627 - accuracy: 0.5193 - val_loss: 1.7740 - val_accuracy: 0.4525\n",
            "Epoch 10/50\n",
            "219/219 [==============================] - 2s 11ms/step - loss: 1.2648 - accuracy: 0.5512 - val_loss: 1.8096 - val_accuracy: 0.4595\n",
            "Epoch 11/50\n",
            "219/219 [==============================] - 2s 11ms/step - loss: 1.1935 - accuracy: 0.5768 - val_loss: 1.8393 - val_accuracy: 0.4575\n",
            "Epoch 12/50\n",
            "219/219 [==============================] - 2s 11ms/step - loss: 1.1235 - accuracy: 0.5868 - val_loss: 1.8071 - val_accuracy: 0.4695\n",
            "Epoch 13/50\n",
            "219/219 [==============================] - 2s 11ms/step - loss: 1.1074 - accuracy: 0.6159 - val_loss: 1.8518 - val_accuracy: 0.4895\n",
            "Epoch 14/50\n",
            "219/219 [==============================] - 2s 11ms/step - loss: 0.9844 - accuracy: 0.6458 - val_loss: 1.6894 - val_accuracy: 0.4785\n",
            "Epoch 15/50\n",
            "219/219 [==============================] - 2s 11ms/step - loss: 0.9750 - accuracy: 0.6484 - val_loss: 1.7302 - val_accuracy: 0.5068\n",
            "Epoch 16/50\n",
            "219/219 [==============================] - 2s 11ms/step - loss: 0.9268 - accuracy: 0.6625 - val_loss: 1.8064 - val_accuracy: 0.4972\n",
            "Epoch 17/50\n",
            "219/219 [==============================] - 2s 11ms/step - loss: 0.8961 - accuracy: 0.6753 - val_loss: 1.7918 - val_accuracy: 0.5082\n",
            "Epoch 18/50\n",
            "219/219 [==============================] - 2s 11ms/step - loss: 0.8385 - accuracy: 0.6940 - val_loss: 1.7101 - val_accuracy: 0.5238\n",
            "Epoch 19/50\n",
            "219/219 [==============================] - 2s 11ms/step - loss: 0.8579 - accuracy: 0.6916 - val_loss: 1.6910 - val_accuracy: 0.5332\n",
            "Epoch 20/50\n",
            "219/219 [==============================] - 2s 11ms/step - loss: 0.7557 - accuracy: 0.7294 - val_loss: 1.7674 - val_accuracy: 0.5235\n",
            "Epoch 21/50\n",
            "219/219 [==============================] - 2s 11ms/step - loss: 0.6677 - accuracy: 0.7503 - val_loss: 1.7618 - val_accuracy: 0.5322\n",
            "Epoch 22/50\n",
            "219/219 [==============================] - 2s 11ms/step - loss: 0.6737 - accuracy: 0.7534 - val_loss: 1.7929 - val_accuracy: 0.5415\n",
            "Epoch 23/50\n",
            "219/219 [==============================] - 2s 11ms/step - loss: 0.6861 - accuracy: 0.7457 - val_loss: 1.8398 - val_accuracy: 0.5412\n",
            "Epoch 24/50\n",
            "219/219 [==============================] - 2s 11ms/step - loss: 0.6261 - accuracy: 0.7608 - val_loss: 1.7623 - val_accuracy: 0.5412\n",
            "Epoch 25/50\n",
            "219/219 [==============================] - 2s 11ms/step - loss: 0.6079 - accuracy: 0.7685 - val_loss: 1.8425 - val_accuracy: 0.5549\n",
            "Epoch 26/50\n",
            "219/219 [==============================] - 2s 11ms/step - loss: 0.5553 - accuracy: 0.7980 - val_loss: 2.0373 - val_accuracy: 0.5358\n",
            "Epoch 27/50\n",
            "219/219 [==============================] - 2s 11ms/step - loss: 0.6104 - accuracy: 0.7837 - val_loss: 1.9293 - val_accuracy: 0.5699\n",
            "Epoch 28/50\n",
            "219/219 [==============================] - 2s 11ms/step - loss: 0.5142 - accuracy: 0.8104 - val_loss: 1.9587 - val_accuracy: 0.5582\n",
            "Epoch 29/50\n",
            "219/219 [==============================] - 2s 11ms/step - loss: 0.4754 - accuracy: 0.8222 - val_loss: 1.8319 - val_accuracy: 0.5779\n",
            "Epoch 30/50\n",
            "219/219 [==============================] - 2s 11ms/step - loss: 0.4238 - accuracy: 0.8439 - val_loss: 1.9365 - val_accuracy: 0.5819\n",
            "Epoch 31/50\n",
            "219/219 [==============================] - 2s 11ms/step - loss: 0.4026 - accuracy: 0.8502 - val_loss: 1.9491 - val_accuracy: 0.5602\n",
            "Epoch 32/50\n",
            "219/219 [==============================] - 2s 11ms/step - loss: 0.4033 - accuracy: 0.8544 - val_loss: 2.0371 - val_accuracy: 0.5689\n",
            "Epoch 33/50\n",
            "219/219 [==============================] - 2s 11ms/step - loss: 0.3673 - accuracy: 0.8671 - val_loss: 1.9739 - val_accuracy: 0.5805\n",
            "Epoch 34/50\n",
            "219/219 [==============================] - 2s 11ms/step - loss: 0.3290 - accuracy: 0.8786 - val_loss: 2.0654 - val_accuracy: 0.5769\n",
            "Epoch 35/50\n",
            "219/219 [==============================] - 2s 11ms/step - loss: 0.3170 - accuracy: 0.8845 - val_loss: 2.0598 - val_accuracy: 0.5285\n",
            "Epoch 36/50\n",
            "219/219 [==============================] - 2s 11ms/step - loss: 0.3730 - accuracy: 0.8638 - val_loss: 2.0860 - val_accuracy: 0.5855\n",
            "Epoch 37/50\n",
            "219/219 [==============================] - 2s 11ms/step - loss: 0.3029 - accuracy: 0.8901 - val_loss: 2.0043 - val_accuracy: 0.5719\n",
            "Epoch 38/50\n",
            "219/219 [==============================] - 2s 11ms/step - loss: 0.3007 - accuracy: 0.8931 - val_loss: 2.1699 - val_accuracy: 0.5519\n",
            "Epoch 39/50\n",
            "219/219 [==============================] - 2s 11ms/step - loss: 0.3026 - accuracy: 0.8903 - val_loss: 2.2785 - val_accuracy: 0.5765\n",
            "Epoch 40/50\n",
            "219/219 [==============================] - 2s 11ms/step - loss: 0.2786 - accuracy: 0.9058 - val_loss: 2.1376 - val_accuracy: 0.5929\n",
            "Epoch 41/50\n",
            "219/219 [==============================] - 2s 11ms/step - loss: 0.2370 - accuracy: 0.9135 - val_loss: 2.1296 - val_accuracy: 0.5925\n",
            "Epoch 42/50\n",
            "219/219 [==============================] - 2s 11ms/step - loss: 0.2692 - accuracy: 0.9026 - val_loss: 2.3030 - val_accuracy: 0.5819\n",
            "Epoch 43/50\n",
            "219/219 [==============================] - 2s 11ms/step - loss: 0.2850 - accuracy: 0.9075 - val_loss: 2.1814 - val_accuracy: 0.5912\n",
            "Epoch 44/50\n",
            "219/219 [==============================] - 2s 11ms/step - loss: 0.2065 - accuracy: 0.9211 - val_loss: 2.2893 - val_accuracy: 0.5942\n",
            "Epoch 45/50\n",
            "219/219 [==============================] - 2s 11ms/step - loss: 0.1659 - accuracy: 0.9432 - val_loss: 2.2819 - val_accuracy: 0.6052\n",
            "Epoch 46/50\n",
            "219/219 [==============================] - 2s 11ms/step - loss: 0.1636 - accuracy: 0.9408 - val_loss: 2.2792 - val_accuracy: 0.5865\n",
            "Epoch 47/50\n",
            "219/219 [==============================] - 2s 11ms/step - loss: 0.2279 - accuracy: 0.9171 - val_loss: 2.1893 - val_accuracy: 0.5939\n",
            "Epoch 48/50\n",
            "219/219 [==============================] - 2s 11ms/step - loss: 0.2016 - accuracy: 0.9317 - val_loss: 2.1455 - val_accuracy: 0.6062\n",
            "Epoch 49/50\n",
            "219/219 [==============================] - 2s 11ms/step - loss: 0.1516 - accuracy: 0.9475 - val_loss: 2.3563 - val_accuracy: 0.5942\n",
            "Epoch 50/50\n",
            "219/219 [==============================] - 2s 11ms/step - loss: 0.1572 - accuracy: 0.9454 - val_loss: 2.2048 - val_accuracy: 0.6039\n"
          ],
          "name": "stdout"
        },
        {
          "output_type": "execute_result",
          "data": {
            "text/plain": [
              "<tensorflow.python.keras.callbacks.History at 0x7fac110b10d0>"
            ]
          },
          "metadata": {
            "tags": []
          },
          "execution_count": 18
        }
      ]
    },
    {
      "cell_type": "markdown",
      "metadata": {
        "id": "UADHQAwuJq5J"
      },
      "source": [
        "As we can see that the training accuracy and testing accuracy has a huge gap, hence our model is overfitted and we need to correct this"
      ]
    }
  ]
}