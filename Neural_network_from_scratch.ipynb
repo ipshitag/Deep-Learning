{
  "nbformat": 4,
  "nbformat_minor": 0,
  "metadata": {
    "colab": {
      "name": "Neural network from scratch.ipynb",
      "provenance": [],
      "collapsed_sections": []
    },
    "kernelspec": {
      "name": "python3",
      "display_name": "Python 3"
    },
    "language_info": {
      "name": "python"
    }
  },
  "cells": [
    {
      "cell_type": "markdown",
      "metadata": {
        "id": "F6G35mGFJ4O5"
      },
      "source": [
        "# Implementing neural network from Scratch"
      ]
    },
    {
      "cell_type": "code",
      "metadata": {
        "id": "ukCPCr88KNOj"
      },
      "source": [
        "import numpy as np\n",
        "\n",
        "class MLP:\n",
        "\n",
        "  def __init__(self, num_inputs = 3, \n",
        "               num_hidden = [3,5], \n",
        "               num_outputs = 2):\n",
        "\n",
        "    self.num_inputs = num_inputs\n",
        "    self.num_hidden = num_hidden\n",
        "    self.num_outputs = num_outputs\n",
        "\n",
        "    layers = [self.num_inputs] + self.num_hidden + [self.num_outputs]\n",
        "\n",
        "    #initiate random weights\n",
        "    self.weights = []\n",
        "    for i in range(len(layers)-1):\n",
        "      #creating a matrix of weight.\n",
        "      w = np.random.rand(layers[i],layers[i+1])\n",
        "      self.weights.append(w)\n",
        "\n",
        "\n",
        "\n",
        "\n",
        "  def forward_propagate(self, inputs):\n",
        "    activations = inputs\n",
        "\n",
        "    for w in self.weights:\n",
        "      #calculate the net inputs\n",
        "      net_inputs = np.dot(activations, w)\n",
        "\n",
        "      #calculate the activations\n",
        "      activations = self._sigmoid(net_inputs)\n",
        "\n",
        "    return activations\n",
        "\n",
        "  def _sigmoid (self,x):\n",
        "    return 1/(1+np.exp(-x))\n",
        "\n"
      ],
      "execution_count": 1,
      "outputs": []
    },
    {
      "cell_type": "code",
      "metadata": {
        "colab": {
          "base_uri": "https://localhost:8080/"
        },
        "id": "J8cjdoWwOjDx",
        "outputId": "27d5e54a-a756-4aab-ccb7-d307206bcf60"
      },
      "source": [
        "# create a MLP\n",
        "mlp = MLP()\n",
        "\n",
        "# create some inputs\n",
        "inputs = np.random.rand(mlp.num_inputs)\n",
        "\n",
        "#perform forward propagation\n",
        "outputs = mlp.forward_propagate(inputs)\n",
        "\n",
        "#print the results\n",
        "print(\"Network input is: {}\".format(inputs))\n",
        "print(\"Network output is: {}\".format(outputs))"
      ],
      "execution_count": 4,
      "outputs": [
        {
          "output_type": "stream",
          "text": [
            "Network input is: [0.25101836 0.88814247 0.88957456]\n",
            "Network output is: [0.77919402 0.92190283]\n"
          ],
          "name": "stdout"
        }
      ]
    }
  ]
}