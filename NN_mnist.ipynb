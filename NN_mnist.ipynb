{
  "nbformat": 4,
  "nbformat_minor": 0,
  "metadata": {
    "colab": {
      "name": "Untitled1.ipynb",
      "provenance": []
    },
    "kernelspec": {
      "name": "python3",
      "display_name": "Python 3"
    },
    "language_info": {
      "name": "python"
    }
  },
  "cells": [
    {
      "cell_type": "code",
      "metadata": {
        "id": "viWz9EwmtCyA"
      },
      "source": [
        "import numpy as np\n",
        "# scipy.special for the sigmoid function expit() \n",
        "import scipy.special \n",
        "\n",
        "#for MNIST plotting\n",
        "import matplotlib.pyplot \n",
        "%matplotlib inline"
      ],
      "execution_count": 1,
      "outputs": []
    },
    {
      "cell_type": "code",
      "metadata": {
        "id": "-8ay4ovdg1Tw"
      },
      "source": [
        "#neural network class definition\n",
        "class neuralNetwork():\n",
        "\n",
        "  #initialize the neural network\n",
        "  def __init__(self, inputnodes, hiddennodes, outputnodes, learningrate):\n",
        "\n",
        "    #set number of nodes into input, hidden and output layers\n",
        "    self.inodes = inputnodes\n",
        "    self.hnodes = hiddennodes\n",
        "    self.onodes = outputnodes\n",
        "\n",
        "    # link weight matrices, wih and who \n",
        "    # weights inside the arrays are w_i_j, where link is from node i to node j in the next layer \n",
        "    # w11 w21 \n",
        "    # w12 w22 etc \n",
        "    self.wih = np.random.normal(0.0, pow(self.hnodes, -0.5), (self.hnodes, self.inodes)) \n",
        "    self.who = np.random.normal(0.0, pow(self.onodes, -0.5), (self.onodes, self.hnodes)) \n",
        "\n",
        "    #learning rate\n",
        "    self.lr = learningrate \n",
        "\n",
        "    # activation function is the sigmoid function \n",
        "    self.activation_function = lambda x: scipy.special.expit(x) \n",
        "\n",
        "    pass\n",
        "\n",
        "  #train the neural network\n",
        "  def train(self, inputs_list, targets_list):\n",
        "    # convert inputs list to 2d array \n",
        "    inputs = np.array(inputs_list, ndmin=2).T \n",
        "    targets = np.array(targets_list, ndmin=2).T \n",
        " \n",
        "    # calculate signals into hidden layer \n",
        "    hidden_inputs = np.dot(self.wih, inputs) \n",
        "    \n",
        "    # calculate the signals emerging from hidden layer \n",
        "    hidden_outputs = self.activation_function(hidden_inputs) \n",
        " \n",
        "    # calculate signals into final output layer \n",
        "    final_inputs = np.dot(self.who, hidden_outputs) \n",
        " \n",
        "    # calculate the signals emerging from final output layer \n",
        "    final_outputs = self.activation_function(final_inputs) \n",
        "\n",
        "    # output layer error is the (target - actual) \n",
        "    output_errors = targets - final_outputs \n",
        " \n",
        "    # hidden layer error is the output_errors, split by weights, recombined at hidden nodes \n",
        "    hidden_errors = np.dot(self.who.T, output_errors) \n",
        " \n",
        "    # update the weights for the links between the hidden and output layers \n",
        "    self.who += self.lr * np.dot((output_errors * final_outputs * (1.0 - final_outputs)), np.transpose(hidden_outputs)) \n",
        " \n",
        "    # update the weights for the links between the input and hidden layers \n",
        "    self.wih += self.lr * np.dot((hidden_errors * hidden_outputs * (1.0 - hidden_outputs)), np.transpose(inputs)) \n",
        "\n",
        "    pass\n",
        "\n",
        "\n",
        "  #query the neural network\n",
        "  def query(self,input_list):\n",
        "    # convert inputs list to 2d array \n",
        "    inputs = np.array(input_list, ndmin=2).T \n",
        " \n",
        "    # calculate signals into hidden layer \n",
        "    hidden_inputs = np.dot(self.wih, inputs) \n",
        "    \n",
        "    # calculate the signals emerging from hidden layer \n",
        "    hidden_outputs = self.activation_function(hidden_inputs) \n",
        " \n",
        "    # calculate signals into final output layer \n",
        "    final_inputs = np.dot(self.who, hidden_outputs) \n",
        "    \n",
        "    # calculate the signals emerging from final output layer \n",
        "    final_outputs = self.activation_function(final_inputs) \n",
        " \n",
        "    return final_outputs "
      ],
      "execution_count": 2,
      "outputs": []
    },
    {
      "cell_type": "code",
      "metadata": {
        "id": "ZmpCbWKPywy3"
      },
      "source": [
        "data_file = open(\"mnist_train.csv\", 'r') \n",
        "data_list = data_file.readlines() \n",
        "data_file.close()"
      ],
      "execution_count": 3,
      "outputs": []
    },
    {
      "cell_type": "markdown",
      "metadata": {
        "id": "XEcWirKtz3z4"
      },
      "source": [
        "Plotting the digits"
      ]
    },
    {
      "cell_type": "code",
      "metadata": {
        "colab": {
          "base_uri": "https://localhost:8080/",
          "height": 283
        },
        "id": "L6eAoWSyy3Ot",
        "outputId": "f554eb76-cecf-4d33-e97f-43e288e3b8b2"
      },
      "source": [
        "all_values = data_list[0].split(',') \n",
        "image_array = np.asfarray(all_values[1:]).reshape((28,28)) \n",
        "matplotlib.pyplot.imshow(image_array, cmap='Greys', interpolation='None') "
      ],
      "execution_count": 4,
      "outputs": [
        {
          "output_type": "execute_result",
          "data": {
            "text/plain": [
              "<matplotlib.image.AxesImage at 0x7fed44e51c50>"
            ]
          },
          "metadata": {
            "tags": []
          },
          "execution_count": 4
        },
        {
          "output_type": "display_data",
          "data": {
            "image/png": "[encoded data removed]",
            "text/plain": [
              "<Figure size 432x288 with 1 Axes>"
            ]
          },
          "metadata": {
            "tags": [],
            "needs_background": "light"
          }
        }
      ]
    },
    {
      "cell_type": "code",
      "metadata": {
        "colab": {
          "base_uri": "https://localhost:8080/",
          "height": 283
        },
        "id": "Eo6ToSIKzo6i",
        "outputId": "2512081a-d800-41fb-a911-03218176a5cc"
      },
      "source": [
        "all_values = data_list[5].split(',') \n",
        "image_array = np.asfarray(all_values[1:]).reshape((28,28)) \n",
        "matplotlib.pyplot.imshow(image_array, cmap='Greys', interpolation='None') "
      ],
      "execution_count": 5,
      "outputs": [
        {
          "output_type": "execute_result",
          "data": {
            "text/plain": [
              "<matplotlib.image.AxesImage at 0x7fed44909dd0>"
            ]
          },
          "metadata": {
            "tags": []
          },
          "execution_count": 5
        },
        {
          "output_type": "display_data",
          "data": {
            "image/png": "[encoded data removed]",
            "text/plain": [
              "<Figure size 432x288 with 1 Axes>"
            ]
          },
          "metadata": {
            "tags": [],
            "needs_background": "light"
          }
        }
      ]
    },
    {
      "cell_type": "code",
      "metadata": {
        "id": "O_zhLPmH3tUg"
      },
      "source": [
        "scaled_input = (np.asfarray(all_values[1:]) / 255.0 * 0.99) + 0.01\n",
        "#print(scaled_input)"
      ],
      "execution_count": 15,
      "outputs": []
    },
    {
      "cell_type": "code",
      "metadata": {
        "id": "Erlp5w6932H7"
      },
      "source": [
        "#output nodes is 10 (example)\n",
        "onodes = 10\n",
        "targets = np.zeros(onodes) + 0.01\n",
        "targets[int(all_values[0])] = 0.99"
      ],
      "execution_count": 7,
      "outputs": []
    },
    {
      "cell_type": "code",
      "metadata": {
        "id": "p1uNJQjc6-qa"
      },
      "source": [
        "# number of input, hidden and output nodes \n",
        "input_nodes = 784 \n",
        "hidden_nodes = 250 \n",
        "output_nodes = 10 \n",
        "\n",
        "# learning rate is 0.3 \n",
        "learning_rate = 0.3 \n",
        "\n",
        "# create instance of neural network \n",
        "n = neuralNetwork(input_nodes,hidden_nodes,output_nodes, learning_rate) \n",
        "\n",
        "# load the mnist training data CSV file into a list \n",
        "training_data_file = open(\"mnist_train.csv\", 'r') \n",
        "training_data_list = training_data_file.readlines() \n",
        "training_data_file.close() \n",
        "\n",
        "# train the neural network \n",
        "# go through all records in the training data set \n",
        "for record in training_data_list: \n",
        " \n",
        " # split the record by the ',' commas \n",
        " all_values = record.split(',') \n",
        " \n",
        " # scale and shift the inputs \n",
        " inputs = (np.asfarray(all_values[1:]) / 255.0 * 0.99) + 0.01 \n",
        " \n",
        " # create the target output values (all 0.01, except the desired label which is 0.99) \n",
        " targets = np.zeros(output_nodes) + 0.01 \n",
        " \n",
        " # all_values[0] is the target label for this record \n",
        " targets[int(all_values[0])] = 0.99 \n",
        " n.train(inputs, targets) \n",
        " pass"
      ],
      "execution_count": 19,
      "outputs": []
    },
    {
      "cell_type": "code",
      "metadata": {
        "id": "SYT3InXa8Sxm"
      },
      "source": [
        "#load the mnist test data CSV file into a list \n",
        "test_data_file = open(\"mnist_test.csv\", 'r') \n",
        "test_data_list = test_data_file.readlines() \n",
        "test_data_file.close() "
      ],
      "execution_count": 9,
      "outputs": []
    },
    {
      "cell_type": "code",
      "metadata": {
        "id": "eWbKu7Ff8W7b"
      },
      "source": [
        "# test the neural network \n",
        "\n",
        "# scorecard for how well the network performs, initially empty \n",
        "scorecard = [] \n",
        "\n",
        "# go through all the records in the test data set \n",
        "for record in test_data_list: \n",
        " \n",
        " # split the record by the ',' commas \n",
        " all_values = record.split(',') \n",
        " \n",
        " # correct answer is first value \n",
        " correct_label = int(all_values[0]) \n",
        " #print(correct_label, \"correct label\") \n",
        " \n",
        " # scale and shift the inputs \n",
        " inputs = (np.asfarray(all_values[1:]) / 255.0 * 0.99) + 0.01 \n",
        " \n",
        " # query the network \n",
        " outputs = n.query(inputs) \n",
        " \n",
        " # the index of the highest value corresponds to the label \n",
        " label = np.argmax(outputs) \n",
        " #print(label, \"network's answer\") \n",
        " \n",
        " # append correct or incorrect to list \n",
        " if (label == correct_label): \n",
        "   # network's answer matches correct answer, add 1 to scorecard \n",
        "   scorecard.append(1) \n",
        " \n",
        " else: \n",
        "   # network's answer doesn't match correct answer, add 0 to scorecard \n",
        "   scorecard.append(0) \n",
        " pass \n",
        " \n",
        "pass"
      ],
      "execution_count": 20,
      "outputs": []
    },
    {
      "cell_type": "code",
      "metadata": {
        "colab": {
          "base_uri": "https://localhost:8080/"
        },
        "id": "8g-3dZhX_JbT",
        "outputId": "0dc04dd8-283a-48ca-ecd2-036093a5a2d5"
      },
      "source": [
        "# calculate the performance score, the fraction of correct answers\n",
        "scorecard_array = np.asarray(scorecard)\n",
        "print (\"performance = \", scorecard_array.sum() / scorecard_array.size)"
      ],
      "execution_count": 21,
      "outputs": [
        {
          "output_type": "stream",
          "text": [
            "performance =  0.9514\n"
          ],
          "name": "stdout"
        }
      ]
    }
  ]
}