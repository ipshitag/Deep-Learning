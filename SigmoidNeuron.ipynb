{
 "cells": [
  {
   "cell_type": "markdown",
   "metadata": {},
   "source": [
    "# Plotting Sigmoid Function"
   ]
  },
  {
   "cell_type": "code",
   "execution_count": 1,
   "metadata": {},
   "outputs": [],
   "source": [
    "import numpy as np\n",
    "import matplotlib.pyplot as plt"
   ]
  },
  {
   "cell_type": "markdown",
   "metadata": {},
   "source": [
    "$S_{w,b}(x) = \\frac{1}{1 + e^{-(wx+b)}} $"
   ]
  },
  {
   "cell_type": "code",
   "execution_count": 2,
   "metadata": {},
   "outputs": [],
   "source": [
    "def sigmoid(x,w,b):\n",
    "    return 1/(1+np.exp(-(w*x + b)))"
   ]
  },
  {
   "cell_type": "code",
   "execution_count": 3,
   "metadata": {},
   "outputs": [
    {
     "data": {
      "text/plain": [
       "0.6224593312018546"
      ]
     },
     "execution_count": 3,
     "metadata": {},
     "output_type": "execute_result"
    }
   ],
   "source": [
    "sigmoid(1,0.5,0)"
   ]
  },
  {
   "cell_type": "code",
   "execution_count": 4,
   "metadata": {},
   "outputs": [],
   "source": [
    "w = 0.9\n",
    "b = 0.1\n",
    "\n",
    "X = np.linspace(-10,10,100)\n",
    "Y = sigmoid(X,w,b)"
   ]
  },
  {
   "cell_type": "code",
   "execution_count": 5,
   "metadata": {},
   "outputs": [
    {
     "data": {
      "image/png": "[encoded data removed]",
      "text/plain": [
       "<Figure size 432x288 with 1 Axes>"
      ]
     },
     "metadata": {
      "needs_background": "light"
     },
     "output_type": "display_data"
    }
   ],
   "source": [
    "plt.plot(X,Y)\n",
    "plt.grid(b=None, which='major', axis='both')\n",
    "plt.show()"
   ]
  },
  {
   "cell_type": "markdown",
   "metadata": {},
   "source": [
    "$S_{w_1,w_2,b}(x_1,x_2) = \\frac{1}{1 + e^{-(w_1x_1 + w_2x_2 +b)}} $"
   ]
  },
  {
   "cell_type": "code",
   "execution_count": 6,
   "metadata": {},
   "outputs": [],
   "source": [
    "def sigmoid_2d(x1,x2,w1,w2,b):\n",
    "    return 1/(1 + np.exp(-(w1*x1 + w2*x2 + b)))"
   ]
  },
  {
   "cell_type": "code",
   "execution_count": 7,
   "metadata": {},
   "outputs": [
    {
     "data": {
      "text/plain": [
       "0.6224593312018546"
      ]
     },
     "execution_count": 7,
     "metadata": {},
     "output_type": "execute_result"
    }
   ],
   "source": [
    "sigmoid_2d(1,0,0.5,1,0)"
   ]
  },
  {
   "cell_type": "code",
   "execution_count": 8,
   "metadata": {},
   "outputs": [],
   "source": [
    "from mpl_toolkits import mplot3d"
   ]
  },
  {
   "cell_type": "code",
   "execution_count": 9,
   "metadata": {},
   "outputs": [],
   "source": [
    "X1 = np.linspace(-10,10,100)\n",
    "X2 = np.linspace(-10,10,100)\n",
    "\n",
    "XX1,XX2 = np.meshgrid(X,Y)"
   ]
  },
  {
   "cell_type": "code",
   "execution_count": 10,
   "metadata": {},
   "outputs": [],
   "source": [
    "w1=0.5\n",
    "w2=0.5\n",
    "b=0\n",
    "\n",
    "Y = sigmoid_2d(XX1,XX2,w1,w2,b)"
   ]
  },
  {
   "cell_type": "code",
   "execution_count": 11,
   "metadata": {},
   "outputs": [],
   "source": [
    "from matplotlib import interactive\n",
    "interactive(True)"
   ]
  },
  {
   "cell_type": "code",
   "execution_count": 12,
   "metadata": {},
   "outputs": [],
   "source": [
    "%matplotlib qt\n",
    "fig = plt.figure()\n",
    "ax = plt.axes(projection='3d')\n",
    "ax.plot_surface(XX1, XX2, Y, cmap='viridis')\n",
    "ax.set_xlabel('x')\n",
    "ax.set_ylabel('y')\n",
    "ax.set_zlabel('z')\n",
    "plt.show()"
   ]
  },
  {
   "cell_type": "code",
   "execution_count": 13,
   "metadata": {},
   "outputs": [
    {
     "data": {
      "text/plain": [
       "(100, 100)"
      ]
     },
     "execution_count": 13,
     "metadata": {},
     "output_type": "execute_result"
    }
   ],
   "source": [
    "Y.shape"
   ]
  },
  {
   "cell_type": "code",
   "execution_count": 14,
   "metadata": {},
   "outputs": [],
   "source": [
    "plt.contourf(XX1,XX2,Y)\n",
    "plt.show()"
   ]
  },
  {
   "cell_type": "markdown",
   "metadata": {},
   "source": [
    "# Computing Loss for a given Dataset"
   ]
  },
  {
   "cell_type": "code",
   "execution_count": 14,
   "metadata": {},
   "outputs": [],
   "source": [
    "w_unknown = 0.5\n",
    "b_unknown = 0.25\n",
    "\n",
    "X = np.random.random(25) * 20 - 10\n",
    "Y = sigmoid(X,w_unknown,b_unknown)"
   ]
  },
  {
   "cell_type": "code",
   "execution_count": 15,
   "metadata": {},
   "outputs": [
    {
     "data": {
      "image/png": "[encoded data removed]",
      "text/plain": [
       "<Figure size 432x288 with 1 Axes>"
      ]
     },
     "metadata": {
      "needs_background": "light"
     },
     "output_type": "display_data"
    }
   ],
   "source": [
    "plt.plot(X,Y,'*')\n",
    "plt.show()"
   ]
  },
  {
   "cell_type": "code",
   "execution_count": 16,
   "metadata": {},
   "outputs": [],
   "source": [
    "def calculate_loss(X,Y,w_est,b_est):\n",
    "    loss = 0\n",
    "    for x,y in zip(X,Y):\n",
    "        loss += (y - sigmoid(x,w_est,b_est)) ** 2\n",
    "    return loss"
   ]
  },
  {
   "cell_type": "code",
   "execution_count": 17,
   "metadata": {},
   "outputs": [],
   "source": [
    "W = np.linspace(0,2,101)\n",
    "B = np.linspace(-1,1,101)\n",
    "\n",
    "WW, BB = np.meshgrid(W,B)"
   ]
  },
  {
   "cell_type": "code",
   "execution_count": 18,
   "metadata": {},
   "outputs": [],
   "source": [
    "Loss = np.zeros(WW.shape)"
   ]
  },
  {
   "cell_type": "code",
   "execution_count": 19,
   "metadata": {},
   "outputs": [],
   "source": [
    "for i in range(WW.shape[0]):\n",
    "    for j in range(WW.shape[1]):\n",
    "        Loss[i,j] = calculate_loss(X,Y,WW[i,j],BB[i,j])\n",
    "        "
   ]
  },
  {
   "cell_type": "code",
   "execution_count": 20,
   "metadata": {},
   "outputs": [
    {
     "data": {
      "image/png": "[encoded data removed]",
      "text/plain": [
       "<Figure size 432x288 with 1 Axes>"
      ]
     },
     "metadata": {
      "needs_background": "light"
     },
     "output_type": "display_data"
    }
   ],
   "source": [
    "fig = plt.figure()\n",
    "ax = plt.axes(projection='3d')\n",
    "ax.plot_surface(WW, BB, Loss, cmap='viridis')\n",
    "ax.set_xlabel('W')\n",
    "ax.set_ylabel('B')\n",
    "ax.set_zlabel('Loss')\n",
    "\n",
    "ax.view_init(30,270)"
   ]
  },
  {
   "cell_type": "code",
   "execution_count": 23,
   "metadata": {},
   "outputs": [],
   "source": [
    "ij = np.argmin(Loss)\n",
    "i = int(np.floor(ij/Loss.shape[1]))\n",
    "j = int(ij - i * Loss.shape[1])"
   ]
  },
  {
   "cell_type": "code",
   "execution_count": 24,
   "metadata": {},
   "outputs": [
    {
     "name": "stdout",
     "output_type": "stream",
     "text": [
      "62 25\n"
     ]
    }
   ],
   "source": [
    "print(i,j)"
   ]
  },
  {
   "cell_type": "code",
   "execution_count": 25,
   "metadata": {},
   "outputs": [
    {
     "name": "stdout",
     "output_type": "stream",
     "text": [
      "0.5 0.24\n"
     ]
    }
   ],
   "source": [
    "print(WW[i,j],BB[i,j])"
   ]
  },
  {
   "cell_type": "markdown",
   "metadata": {},
   "source": [
    "# Sigmoid Class"
   ]
  },
  {
   "cell_type": "code",
   "execution_count": 76,
   "metadata": {},
   "outputs": [],
   "source": [
    "class SigmoidNeuron:\n",
    "    \n",
    "    def __init__(self):\n",
    "        self.w = None\n",
    "        self.b = None\n",
    "        \n",
    "    def perceptron(self,x):\n",
    "        return np.dot(x,self.w.T) + self.b\n",
    "    \n",
    "    def sigmoid(self,x):\n",
    "        return 1.0/(1.0 + np.exp(-x))\n",
    "    \n",
    "    def grad_w(self,x,y):\n",
    "        y_pred = self.sigmoid(self.perceptron(x))\n",
    "        return (y_pred-y) * y_pred * (1-y_pred) * x\n",
    "    \n",
    "    def grad_b(self,x,y):\n",
    "        y_pred = self.sigmoid(self.perceptron(x))\n",
    "        return (y_pred-y) * y_pred * (1-y_pred) * x\n",
    "    \n",
    "    def fit(self,X,Y,epochs=1,learning_rate=1,initialise = True):\n",
    "        \n",
    "        #initialise w,b\n",
    "        if(initialise):\n",
    "            self.w = np.random.randn(1,X.shape[1])\n",
    "            self.b = 0\n",
    "        \n",
    "        #Go through the data\n",
    "        for i in range(epochs):\n",
    "            dw=0\n",
    "            db=0\n",
    "            \n",
    "            for x,y in zip(X,Y):\n",
    "                dw += self.grad_w(x,y)\n",
    "                db += self.grad_b(x,y)\n",
    "                \n",
    "            #Update\n",
    "            self.w -= learning_rate * dw\n",
    "            self.b -= learning_rate * db            "
   ]
  },
  {
   "cell_type": "markdown",
   "metadata": {},
   "source": [
    "# Fit for Toy data"
   ]
  },
  {
   "cell_type": "code",
   "execution_count": 77,
   "metadata": {},
   "outputs": [],
   "source": [
    "X = np.asarray([[2.5,2.5],[4,-1],[1,-4],[3,1.25],[2,4],[1,5]])\n",
    "Y = [1,1,1,0,0,0]\n"
   ]
  },
  {
   "cell_type": "code",
   "execution_count": 78,
   "metadata": {},
   "outputs": [],
   "source": [
    "sn = SigmoidNeuron()\n",
    "sn.fit(X,Y,1,0.25,True)"
   ]
  },
  {
   "cell_type": "code",
   "execution_count": 84,
   "metadata": {},
   "outputs": [
    {
     "name": "stdout",
     "output_type": "stream",
     "text": [
      "[[ 0.23919165 -0.61213245]] [0.21132258 0.54329047]\n",
      "[[ 0.23917367 -0.61211431]] [0.2113046  0.54330861]\n",
      "[[ 0.23916953 -0.61211013]] [0.21130046 0.54331279]\n",
      "[[ 0.23916858 -0.61210917]] [0.21129951 0.54331375]\n",
      "[[ 0.23916836 -0.61210895]] [0.21129929 0.54331397]\n",
      "[[ 0.23916831 -0.6121089 ]] [0.21129924 0.54331403]\n",
      "[[ 0.23916829 -0.61210888]] [0.21129923 0.54331404]\n",
      "[[ 0.23916829 -0.61210888]] [0.21129922 0.54331404]\n",
      "[[ 0.23916829 -0.61210888]] [0.21129922 0.54331404]\n",
      "[[ 0.23916829 -0.61210888]] [0.21129922 0.54331404]\n",
      "[[ 0.23916829 -0.61210888]] [0.21129922 0.54331404]\n",
      "[[ 0.23916829 -0.61210888]] [0.21129922 0.54331404]\n",
      "[[ 0.23916829 -0.61210888]] [0.21129922 0.54331404]\n",
      "[[ 0.23916829 -0.61210888]] [0.21129922 0.54331404]\n",
      "[[ 0.23916829 -0.61210888]] [0.21129922 0.54331404]\n",
      "[[ 0.23916829 -0.61210888]] [0.21129922 0.54331404]\n",
      "[[ 0.23916829 -0.61210888]] [0.21129922 0.54331404]\n",
      "[[ 0.23916829 -0.61210888]] [0.21129922 0.54331404]\n",
      "[[ 0.23916829 -0.61210888]] [0.21129922 0.54331404]\n",
      "[[ 0.23916829 -0.61210888]] [0.21129922 0.54331404]\n"
     ]
    }
   ],
   "source": [
    "for i in range(20):\n",
    "    print(sn.w,sn.b)\n",
    "    sn.fit(X,Y,1,0.75,False)"
   ]
  },
  {
   "cell_type": "code",
   "execution_count": null,
   "metadata": {},
   "outputs": [],
   "source": []
  }
 ],
 "metadata": {
  "kernelspec": {
   "display_name": "Python 3",
   "language": "python",
   "name": "python3"
  },
  "language_info": {
   "codemirror_mode": {
    "name": "ipython",
    "version": 3
   },
   "file_extension": ".py",
   "mimetype": "text/x-python",
   "name": "python",
   "nbconvert_exporter": "python",
   "pygments_lexer": "ipython3",
   "version": "3.7.3"
  }
 },
 "nbformat": 4,
 "nbformat_minor": 2
}
